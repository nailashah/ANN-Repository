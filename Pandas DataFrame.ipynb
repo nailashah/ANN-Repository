{
 "cells": [
  {
   "cell_type": "markdown",
   "id": "f95cbb11",
   "metadata": {},
   "source": [
    "## Pandas DataFrame overview\n",
    "A DataFrame represents a rectangular table of data and contains an ordered collection of columns, each of which can be a different value type (numeric, string, boolean, etc.).The DataFrame has both a row and column index"
   ]
  },
  {
   "cell_type": "code",
   "execution_count": 4,
   "id": "8d895c58",
   "metadata": {},
   "outputs": [],
   "source": [
    "import pandas as pd"
   ]
  },
  {
   "cell_type": "code",
   "execution_count": 5,
   "id": "19118f1e",
   "metadata": {},
   "outputs": [
    {
     "name": "stdout",
     "output_type": "stream",
     "text": [
      "0    1\n",
      "1    2\n",
      "2    3\n",
      "3    4\n",
      "4    5\n",
      "dtype: int64 0    5\n",
      "1    4\n",
      "2    3\n",
      "3    2\n",
      "4    1\n",
      "dtype: int64\n"
     ]
    }
   ],
   "source": [
    "fruit_No1=pd.Series([1,2,3,4,5])\n",
    "fruit_No2=pd.Series([5,4,3,2,1])\n",
    "print(fruit_No1,fruit_No2)"
   ]
  },
  {
   "cell_type": "code",
   "execution_count": 6,
   "id": "7d2185b6",
   "metadata": {},
   "outputs": [
    {
     "name": "stdout",
     "output_type": "stream",
     "text": [
      "0    1\n",
      "1    2\n",
      "2    3\n",
      "3    4\n",
      "4    5\n",
      "dtype: int64 0    5\n",
      "1    4\n",
      "2    3\n",
      "3    2\n",
      "4    1\n",
      "dtype: int64 0     apple\n",
      "1    grapes\n",
      "2    banana\n",
      "3    orange\n",
      "dtype: object\n"
     ]
    }
   ],
   "source": [
    "fruit_No1=pd.Series([1,2,3,4,5])\n",
    "fruit_No2=pd.Series([5,4,3,2,1])\n",
    "fruit_Names=pd.Series([\"apple\",\"grapes\",\"banana\", \"orange\"])\n",
    "print(fruit_No1,fruit_No2, fruit_Names )"
   ]
  },
  {
   "cell_type": "code",
   "execution_count": 7,
   "id": "4845361c",
   "metadata": {},
   "outputs": [
    {
     "data": {
      "text/html": [
       "<div>\n",
       "<style scoped>\n",
       "    .dataframe tbody tr th:only-of-type {\n",
       "        vertical-align: middle;\n",
       "    }\n",
       "\n",
       "    .dataframe tbody tr th {\n",
       "        vertical-align: top;\n",
       "    }\n",
       "\n",
       "    .dataframe thead th {\n",
       "        text-align: right;\n",
       "    }\n",
       "</style>\n",
       "<table border=\"1\" class=\"dataframe\">\n",
       "  <thead>\n",
       "    <tr style=\"text-align: right;\">\n",
       "      <th></th>\n",
       "      <th>fruit_No1</th>\n",
       "      <th>fruit_No2</th>\n",
       "      <th>fruit_Names</th>\n",
       "    </tr>\n",
       "  </thead>\n",
       "  <tbody>\n",
       "    <tr>\n",
       "      <th>0</th>\n",
       "      <td>1</td>\n",
       "      <td>5</td>\n",
       "      <td>apple</td>\n",
       "    </tr>\n",
       "    <tr>\n",
       "      <th>1</th>\n",
       "      <td>2</td>\n",
       "      <td>4</td>\n",
       "      <td>grapes</td>\n",
       "    </tr>\n",
       "    <tr>\n",
       "      <th>2</th>\n",
       "      <td>3</td>\n",
       "      <td>3</td>\n",
       "      <td>banana</td>\n",
       "    </tr>\n",
       "    <tr>\n",
       "      <th>3</th>\n",
       "      <td>4</td>\n",
       "      <td>2</td>\n",
       "      <td>orange</td>\n",
       "    </tr>\n",
       "    <tr>\n",
       "      <th>4</th>\n",
       "      <td>5</td>\n",
       "      <td>1</td>\n",
       "      <td>NaN</td>\n",
       "    </tr>\n",
       "  </tbody>\n",
       "</table>\n",
       "</div>"
      ],
      "text/plain": [
       "   fruit_No1  fruit_No2 fruit_Names\n",
       "0          1          5       apple\n",
       "1          2          4      grapes\n",
       "2          3          3      banana\n",
       "3          4          2      orange\n",
       "4          5          1         NaN"
      ]
     },
     "execution_count": 7,
     "metadata": {},
     "output_type": "execute_result"
    }
   ],
   "source": [
    "\n",
    "pd.DataFrame({\"fruit_No1\":fruit_No1, \"fruit_No2\":fruit_No2, \"fruit_Names\":fruit_Names})\n"
   ]
  },
  {
   "cell_type": "code",
   "execution_count": 8,
   "id": "e531095f",
   "metadata": {},
   "outputs": [
    {
     "data": {
      "text/html": [
       "<div>\n",
       "<style scoped>\n",
       "    .dataframe tbody tr th:only-of-type {\n",
       "        vertical-align: middle;\n",
       "    }\n",
       "\n",
       "    .dataframe tbody tr th {\n",
       "        vertical-align: top;\n",
       "    }\n",
       "\n",
       "    .dataframe thead th {\n",
       "        text-align: right;\n",
       "    }\n",
       "</style>\n",
       "<table border=\"1\" class=\"dataframe\">\n",
       "  <thead>\n",
       "    <tr style=\"text-align: right;\">\n",
       "      <th></th>\n",
       "      <th>fruit_No1</th>\n",
       "      <th>fruit_No2</th>\n",
       "      <th>fruit_Names</th>\n",
       "    </tr>\n",
       "  </thead>\n",
       "  <tbody>\n",
       "    <tr>\n",
       "      <th>0</th>\n",
       "      <td>1</td>\n",
       "      <td>5</td>\n",
       "      <td>apple</td>\n",
       "    </tr>\n",
       "    <tr>\n",
       "      <th>1</th>\n",
       "      <td>2</td>\n",
       "      <td>4</td>\n",
       "      <td>grapes</td>\n",
       "    </tr>\n",
       "    <tr>\n",
       "      <th>2</th>\n",
       "      <td>3</td>\n",
       "      <td>3</td>\n",
       "      <td>banana</td>\n",
       "    </tr>\n",
       "    <tr>\n",
       "      <th>3</th>\n",
       "      <td>4</td>\n",
       "      <td>2</td>\n",
       "      <td>orange</td>\n",
       "    </tr>\n",
       "    <tr>\n",
       "      <th>4</th>\n",
       "      <td>5</td>\n",
       "      <td>1</td>\n",
       "      <td>NaN</td>\n",
       "    </tr>\n",
       "  </tbody>\n",
       "</table>\n",
       "</div>"
      ],
      "text/plain": [
       "   fruit_No1  fruit_No2 fruit_Names\n",
       "0          1          5       apple\n",
       "1          2          4      grapes\n",
       "2          3          3      banana\n",
       "3          4          2      orange\n",
       "4          5          1         NaN"
      ]
     },
     "execution_count": 8,
     "metadata": {},
     "output_type": "execute_result"
    }
   ],
   "source": [
    "fruit_Chaat= {\"fruit_No1\":fruit_No1, \"fruit_No2\":fruit_No2, \"fruit_Names\":fruit_Names}\n",
    "pd.DataFrame(fruit_Chaat)"
   ]
  },
  {
   "cell_type": "code",
   "execution_count": 9,
   "id": "f43e1b4d",
   "metadata": {},
   "outputs": [
    {
     "data": {
      "text/html": [
       "<div>\n",
       "<style scoped>\n",
       "    .dataframe tbody tr th:only-of-type {\n",
       "        vertical-align: middle;\n",
       "    }\n",
       "\n",
       "    .dataframe tbody tr th {\n",
       "        vertical-align: top;\n",
       "    }\n",
       "\n",
       "    .dataframe thead th {\n",
       "        text-align: right;\n",
       "    }\n",
       "</style>\n",
       "<table border=\"1\" class=\"dataframe\">\n",
       "  <thead>\n",
       "    <tr style=\"text-align: right;\">\n",
       "      <th></th>\n",
       "      <th>fruit_No1</th>\n",
       "      <th>fruit_No2</th>\n",
       "      <th>fruit_Names</th>\n",
       "    </tr>\n",
       "  </thead>\n",
       "  <tbody>\n",
       "    <tr>\n",
       "      <th>0</th>\n",
       "      <td>1</td>\n",
       "      <td>5</td>\n",
       "      <td>apple</td>\n",
       "    </tr>\n",
       "    <tr>\n",
       "      <th>1</th>\n",
       "      <td>2</td>\n",
       "      <td>4</td>\n",
       "      <td>grapes</td>\n",
       "    </tr>\n",
       "    <tr>\n",
       "      <th>2</th>\n",
       "      <td>3</td>\n",
       "      <td>3</td>\n",
       "      <td>banana</td>\n",
       "    </tr>\n",
       "    <tr>\n",
       "      <th>3</th>\n",
       "      <td>4</td>\n",
       "      <td>2</td>\n",
       "      <td>orange</td>\n",
       "    </tr>\n",
       "    <tr>\n",
       "      <th>4</th>\n",
       "      <td>5</td>\n",
       "      <td>1</td>\n",
       "      <td>NaN</td>\n",
       "    </tr>\n",
       "  </tbody>\n",
       "</table>\n",
       "</div>"
      ],
      "text/plain": [
       "   fruit_No1  fruit_No2 fruit_Names\n",
       "0          1          5       apple\n",
       "1          2          4      grapes\n",
       "2          3          3      banana\n",
       "3          4          2      orange\n",
       "4          5          1         NaN"
      ]
     },
     "execution_count": 9,
     "metadata": {},
     "output_type": "execute_result"
    }
   ],
   "source": [
    "Mix_fruit=pd.DataFrame(fruit_Chaat)\n",
    "Mix_fruit"
   ]
  },
  {
   "cell_type": "markdown",
   "id": "6fa4de6f",
   "metadata": {},
   "source": [
    "# Recalling indexes, we can apply indexes explicitly"
   ]
  },
  {
   "cell_type": "code",
   "execution_count": 10,
   "id": "402c9d97",
   "metadata": {},
   "outputs": [
    {
     "data": {
      "text/plain": [
       "a    1\n",
       "b    2\n",
       "c    3\n",
       "d    4\n",
       "e    5\n",
       "dtype: int64"
      ]
     },
     "execution_count": 10,
     "metadata": {},
     "output_type": "execute_result"
    }
   ],
   "source": [
    "fruit_No1=pd.Series([1,2,3,4,5], [\"a\", \"b\", \"c\", \"d\", \"e\"] ) \n",
    "fruit_No1"
   ]
  },
  {
   "cell_type": "code",
   "execution_count": 11,
   "id": "2ebe1066",
   "metadata": {},
   "outputs": [
    {
     "data": {
      "text/plain": [
       "one      5\n",
       "two      4\n",
       "three    3\n",
       "four     2\n",
       "five     1\n",
       "dtype: int64"
      ]
     },
     "execution_count": 11,
     "metadata": {},
     "output_type": "execute_result"
    }
   ],
   "source": [
    "fruit_No2=pd.Series([5,4,3,2,1], index=[\"one\", \"two\", \"three\", \"four\", \"five\"])\n",
    "fruit_No2"
   ]
  },
  {
   "cell_type": "code",
   "execution_count": 12,
   "id": "6734af0d",
   "metadata": {},
   "outputs": [
    {
     "name": "stdout",
     "output_type": "stream",
     "text": [
      "a    1\n",
      "b    2\n",
      "c    3\n",
      "d    4\n",
      "e    5\n",
      "dtype: int64 one      5\n",
      "two      4\n",
      "three    3\n",
      "four     2\n",
      "five     1\n",
      "dtype: int64\n"
     ]
    }
   ],
   "source": [
    "print(fruit_No1, fruit_No2)"
   ]
  },
  {
   "cell_type": "markdown",
   "id": "7bb1956b",
   "metadata": {},
   "source": [
    "# What if both series have different indexes like what we did above? "
   ]
  },
  {
   "cell_type": "code",
   "execution_count": 16,
   "id": "3e5b2332",
   "metadata": {},
   "outputs": [
    {
     "name": "stdout",
     "output_type": "stream",
     "text": [
      "       fruit_No1  fruit_No2\n",
      "a            1.0        NaN\n",
      "b            2.0        NaN\n",
      "c            3.0        NaN\n",
      "d            4.0        NaN\n",
      "e            5.0        NaN\n",
      "five         NaN        1.0\n",
      "four         NaN        2.0\n",
      "one          NaN        5.0\n",
      "three        NaN        3.0\n",
      "two          NaN        4.0\n"
     ]
    }
   ],
   "source": [
    "fruit_No1=pd.Series([1,2,3,4,5], [\"a\", \"b\", \"c\", \"d\", \"e\"] ) \n",
    "fruit_No2=pd.Series([5,4,3,2,1], index=[\"one\", \"two\", \"three\", \"four\", \"five\"])\n",
    "\n",
    "\n",
    "fruit_Chaat = {\"fruit_No1\": fruit_No1, \"fruit_No2\": fruit_No2}\n",
    "Mix_fruits = pd.DataFrame(fruit_Chaat)\n",
    "print(Mix_fruits)\n",
    "#Mix_fruit\n",
    "# index not matched"
   ]
  },
  {
   "cell_type": "markdown",
   "id": "bea2d516",
   "metadata": {},
   "source": [
    "# In the above example if we print Mix_fruit with using print, it doesnt show manual indexes"
   ]
  },
  {
   "cell_type": "code",
   "execution_count": 17,
   "id": "a7d50eef",
   "metadata": {},
   "outputs": [
    {
     "data": {
      "text/html": [
       "<div>\n",
       "<style scoped>\n",
       "    .dataframe tbody tr th:only-of-type {\n",
       "        vertical-align: middle;\n",
       "    }\n",
       "\n",
       "    .dataframe tbody tr th {\n",
       "        vertical-align: top;\n",
       "    }\n",
       "\n",
       "    .dataframe thead th {\n",
       "        text-align: right;\n",
       "    }\n",
       "</style>\n",
       "<table border=\"1\" class=\"dataframe\">\n",
       "  <thead>\n",
       "    <tr style=\"text-align: right;\">\n",
       "      <th></th>\n",
       "      <th>fruit_No1</th>\n",
       "      <th>fruit_No2</th>\n",
       "      <th>fruit_Names</th>\n",
       "    </tr>\n",
       "  </thead>\n",
       "  <tbody>\n",
       "    <tr>\n",
       "      <th>0</th>\n",
       "      <td>1</td>\n",
       "      <td>5</td>\n",
       "      <td>apple</td>\n",
       "    </tr>\n",
       "    <tr>\n",
       "      <th>1</th>\n",
       "      <td>2</td>\n",
       "      <td>4</td>\n",
       "      <td>grapes</td>\n",
       "    </tr>\n",
       "    <tr>\n",
       "      <th>2</th>\n",
       "      <td>3</td>\n",
       "      <td>3</td>\n",
       "      <td>banana</td>\n",
       "    </tr>\n",
       "    <tr>\n",
       "      <th>3</th>\n",
       "      <td>4</td>\n",
       "      <td>2</td>\n",
       "      <td>orange</td>\n",
       "    </tr>\n",
       "    <tr>\n",
       "      <th>4</th>\n",
       "      <td>5</td>\n",
       "      <td>1</td>\n",
       "      <td>NaN</td>\n",
       "    </tr>\n",
       "  </tbody>\n",
       "</table>\n",
       "</div>"
      ],
      "text/plain": [
       "   fruit_No1  fruit_No2 fruit_Names\n",
       "0          1          5       apple\n",
       "1          2          4      grapes\n",
       "2          3          3      banana\n",
       "3          4          2      orange\n",
       "4          5          1         NaN"
      ]
     },
     "execution_count": 17,
     "metadata": {},
     "output_type": "execute_result"
    }
   ],
   "source": [
    "Mix_fruit"
   ]
  },
  {
   "cell_type": "markdown",
   "id": "11516322",
   "metadata": {},
   "source": [
    "# If we keep indexes same for both series"
   ]
  },
  {
   "cell_type": "code",
   "execution_count": 20,
   "id": "861b777c",
   "metadata": {},
   "outputs": [
    {
     "name": "stdout",
     "output_type": "stream",
     "text": [
      "       fruit_No1  fruit_No2\n",
      "one            1          5\n",
      "two            2          4\n",
      "three          3          3\n",
      "four           4          2\n",
      "five           5          1\n"
     ]
    }
   ],
   "source": [
    "fruit_No1=pd.Series([1,2,3,4,5], [\"one\", \"two\", \"three\", \"four\", \"five\"]) \n",
    "fruit_No2=pd.Series([5,4,3,2,1], index=[\"one\", \"two\", \"three\", \"four\", \"five\"])\n",
    "\n",
    "fruit_Chaat = {\"fruit_No1\": fruit_No1, \"fruit_No2\": fruit_No2}\n",
    "Mix_fruits = pd.DataFrame(fruit_Chaat)\n",
    "print(Mix_fruits)\n",
    "#\n",
    "# index not matched"
   ]
  },
  {
   "cell_type": "raw",
   "id": "a414acd8",
   "metadata": {},
   "source": [
    "# Passing List into a dictionary, then passing that dictionary to pandas dataframe"
   ]
  },
  {
   "cell_type": "code",
   "execution_count": 43,
   "id": "cbd88471",
   "metadata": {},
   "outputs": [
    {
     "data": {
      "text/html": [
       "<div>\n",
       "<style scoped>\n",
       "    .dataframe tbody tr th:only-of-type {\n",
       "        vertical-align: middle;\n",
       "    }\n",
       "\n",
       "    .dataframe tbody tr th {\n",
       "        vertical-align: top;\n",
       "    }\n",
       "\n",
       "    .dataframe thead th {\n",
       "        text-align: right;\n",
       "    }\n",
       "</style>\n",
       "<table border=\"1\" class=\"dataframe\">\n",
       "  <thead>\n",
       "    <tr style=\"text-align: right;\">\n",
       "      <th></th>\n",
       "      <th>Name</th>\n",
       "      <th>RollNo</th>\n",
       "      <th>Grade</th>\n",
       "    </tr>\n",
       "  </thead>\n",
       "  <tbody>\n",
       "    <tr>\n",
       "      <th>1st</th>\n",
       "      <td>Naila</td>\n",
       "      <td>7</td>\n",
       "      <td>A</td>\n",
       "    </tr>\n",
       "    <tr>\n",
       "      <th>2nd</th>\n",
       "      <td>Anum</td>\n",
       "      <td>5</td>\n",
       "      <td>B</td>\n",
       "    </tr>\n",
       "    <tr>\n",
       "      <th>3rd</th>\n",
       "      <td>Sana</td>\n",
       "      <td>3</td>\n",
       "      <td>C</td>\n",
       "    </tr>\n",
       "    <tr>\n",
       "      <th>4th</th>\n",
       "      <td>Saira</td>\n",
       "      <td>1</td>\n",
       "      <td>D</td>\n",
       "    </tr>\n",
       "    <tr>\n",
       "      <th>5th</th>\n",
       "      <td>Saima</td>\n",
       "      <td>4</td>\n",
       "      <td>E</td>\n",
       "    </tr>\n",
       "    <tr>\n",
       "      <th>6th</th>\n",
       "      <td>Anila</td>\n",
       "      <td>6</td>\n",
       "      <td>F</td>\n",
       "    </tr>\n",
       "  </tbody>\n",
       "</table>\n",
       "</div>"
      ],
      "text/plain": [
       "      Name RollNo Grade\n",
       "1st  Naila      7     A\n",
       "2nd   Anum      5     B\n",
       "3rd   Sana      3     C\n",
       "4th  Saira      1     D\n",
       "5th  Saima      4     E\n",
       "6th  Anila      6     F"
      ]
     },
     "execution_count": 43,
     "metadata": {},
     "output_type": "execute_result"
    }
   ],
   "source": [
    "data={\"Name\":[\"Naila\",\"Anum\", \"Sana\",\"Saira\", \"Saima\", \"Anila\"], \"RollNo\":['7','5','3','1','4','6'], 'Grade':['A','B','C','D','E','F']}\n",
    "pd.DataFrame(data, index=[\"1st\", \"2nd\", \"3rd\", \"4th\", \"5th\", \"6th\"])"
   ]
  },
  {
   "cell_type": "markdown",
   "id": "a8bb7c3c",
   "metadata": {},
   "source": [
    "# we can convert a dictionary to dataframe by using from_dict method "
   ]
  },
  {
   "cell_type": "code",
   "execution_count": 44,
   "id": "209dd56c",
   "metadata": {},
   "outputs": [
    {
     "data": {
      "text/html": [
       "<div>\n",
       "<style scoped>\n",
       "    .dataframe tbody tr th:only-of-type {\n",
       "        vertical-align: middle;\n",
       "    }\n",
       "\n",
       "    .dataframe tbody tr th {\n",
       "        vertical-align: top;\n",
       "    }\n",
       "\n",
       "    .dataframe thead th {\n",
       "        text-align: right;\n",
       "    }\n",
       "</style>\n",
       "<table border=\"1\" class=\"dataframe\">\n",
       "  <thead>\n",
       "    <tr style=\"text-align: right;\">\n",
       "      <th></th>\n",
       "      <th>Name</th>\n",
       "      <th>RollNo</th>\n",
       "      <th>Grade</th>\n",
       "    </tr>\n",
       "  </thead>\n",
       "  <tbody>\n",
       "    <tr>\n",
       "      <th>0</th>\n",
       "      <td>Naila</td>\n",
       "      <td>7</td>\n",
       "      <td>A</td>\n",
       "    </tr>\n",
       "    <tr>\n",
       "      <th>1</th>\n",
       "      <td>Anum</td>\n",
       "      <td>5</td>\n",
       "      <td>B</td>\n",
       "    </tr>\n",
       "    <tr>\n",
       "      <th>2</th>\n",
       "      <td>Sana</td>\n",
       "      <td>3</td>\n",
       "      <td>C</td>\n",
       "    </tr>\n",
       "    <tr>\n",
       "      <th>3</th>\n",
       "      <td>Saira</td>\n",
       "      <td>1</td>\n",
       "      <td>D</td>\n",
       "    </tr>\n",
       "    <tr>\n",
       "      <th>4</th>\n",
       "      <td>Saima</td>\n",
       "      <td>4</td>\n",
       "      <td>E</td>\n",
       "    </tr>\n",
       "    <tr>\n",
       "      <th>5</th>\n",
       "      <td>Anila</td>\n",
       "      <td>6</td>\n",
       "      <td>F</td>\n",
       "    </tr>\n",
       "  </tbody>\n",
       "</table>\n",
       "</div>"
      ],
      "text/plain": [
       "    Name RollNo Grade\n",
       "0  Naila      7     A\n",
       "1   Anum      5     B\n",
       "2   Sana      3     C\n",
       "3  Saira      1     D\n",
       "4  Saima      4     E\n",
       "5  Anila      6     F"
      ]
     },
     "execution_count": 44,
     "metadata": {},
     "output_type": "execute_result"
    }
   ],
   "source": [
    "pd.DataFrame.from_dict(data)"
   ]
  },
  {
   "cell_type": "markdown",
   "id": "1255a3f1",
   "metadata": {},
   "source": [
    "# We can use column argument to view the sequence of columns as we want"
   ]
  },
  {
   "cell_type": "code",
   "execution_count": 46,
   "id": "a29a3e7b",
   "metadata": {},
   "outputs": [
    {
     "data": {
      "text/html": [
       "<div>\n",
       "<style scoped>\n",
       "    .dataframe tbody tr th:only-of-type {\n",
       "        vertical-align: middle;\n",
       "    }\n",
       "\n",
       "    .dataframe tbody tr th {\n",
       "        vertical-align: top;\n",
       "    }\n",
       "\n",
       "    .dataframe thead th {\n",
       "        text-align: right;\n",
       "    }\n",
       "</style>\n",
       "<table border=\"1\" class=\"dataframe\">\n",
       "  <thead>\n",
       "    <tr style=\"text-align: right;\">\n",
       "      <th></th>\n",
       "      <th>RollNo</th>\n",
       "      <th>Name</th>\n",
       "      <th>Grade</th>\n",
       "    </tr>\n",
       "  </thead>\n",
       "  <tbody>\n",
       "    <tr>\n",
       "      <th>0</th>\n",
       "      <td>7</td>\n",
       "      <td>Naila</td>\n",
       "      <td>A</td>\n",
       "    </tr>\n",
       "    <tr>\n",
       "      <th>1</th>\n",
       "      <td>5</td>\n",
       "      <td>Anum</td>\n",
       "      <td>B</td>\n",
       "    </tr>\n",
       "    <tr>\n",
       "      <th>2</th>\n",
       "      <td>3</td>\n",
       "      <td>Sana</td>\n",
       "      <td>C</td>\n",
       "    </tr>\n",
       "    <tr>\n",
       "      <th>3</th>\n",
       "      <td>1</td>\n",
       "      <td>Saira</td>\n",
       "      <td>D</td>\n",
       "    </tr>\n",
       "    <tr>\n",
       "      <th>4</th>\n",
       "      <td>4</td>\n",
       "      <td>Saima</td>\n",
       "      <td>E</td>\n",
       "    </tr>\n",
       "    <tr>\n",
       "      <th>5</th>\n",
       "      <td>6</td>\n",
       "      <td>Anila</td>\n",
       "      <td>F</td>\n",
       "    </tr>\n",
       "  </tbody>\n",
       "</table>\n",
       "</div>"
      ],
      "text/plain": [
       "  RollNo   Name Grade\n",
       "0      7  Naila     A\n",
       "1      5   Anum     B\n",
       "2      3   Sana     C\n",
       "3      1  Saira     D\n",
       "4      4  Saima     E\n",
       "5      6  Anila     F"
      ]
     },
     "execution_count": 46,
     "metadata": {},
     "output_type": "execute_result"
    }
   ],
   "source": [
    "pd.DataFrame(data, columns=['RollNo', 'Name', 'Grade'])"
   ]
  },
  {
   "cell_type": "raw",
   "id": "316e953b",
   "metadata": {},
   "source": [
    "# To view alongwith index(what we defined)"
   ]
  },
  {
   "cell_type": "code",
   "execution_count": 47,
   "id": "dd506d2c",
   "metadata": {},
   "outputs": [
    {
     "data": {
      "text/html": [
       "<div>\n",
       "<style scoped>\n",
       "    .dataframe tbody tr th:only-of-type {\n",
       "        vertical-align: middle;\n",
       "    }\n",
       "\n",
       "    .dataframe tbody tr th {\n",
       "        vertical-align: top;\n",
       "    }\n",
       "\n",
       "    .dataframe thead th {\n",
       "        text-align: right;\n",
       "    }\n",
       "</style>\n",
       "<table border=\"1\" class=\"dataframe\">\n",
       "  <thead>\n",
       "    <tr style=\"text-align: right;\">\n",
       "      <th></th>\n",
       "      <th>RollNo</th>\n",
       "      <th>Name</th>\n",
       "      <th>Grade</th>\n",
       "    </tr>\n",
       "  </thead>\n",
       "  <tbody>\n",
       "    <tr>\n",
       "      <th>1st</th>\n",
       "      <td>7</td>\n",
       "      <td>Naila</td>\n",
       "      <td>A</td>\n",
       "    </tr>\n",
       "    <tr>\n",
       "      <th>2nd</th>\n",
       "      <td>5</td>\n",
       "      <td>Anum</td>\n",
       "      <td>B</td>\n",
       "    </tr>\n",
       "    <tr>\n",
       "      <th>3rd</th>\n",
       "      <td>3</td>\n",
       "      <td>Sana</td>\n",
       "      <td>C</td>\n",
       "    </tr>\n",
       "    <tr>\n",
       "      <th>4th</th>\n",
       "      <td>1</td>\n",
       "      <td>Saira</td>\n",
       "      <td>D</td>\n",
       "    </tr>\n",
       "    <tr>\n",
       "      <th>5th</th>\n",
       "      <td>4</td>\n",
       "      <td>Saima</td>\n",
       "      <td>E</td>\n",
       "    </tr>\n",
       "    <tr>\n",
       "      <th>6th</th>\n",
       "      <td>6</td>\n",
       "      <td>Anila</td>\n",
       "      <td>F</td>\n",
       "    </tr>\n",
       "  </tbody>\n",
       "</table>\n",
       "</div>"
      ],
      "text/plain": [
       "    RollNo   Name Grade\n",
       "1st      7  Naila     A\n",
       "2nd      5   Anum     B\n",
       "3rd      3   Sana     C\n",
       "4th      1  Saira     D\n",
       "5th      4  Saima     E\n",
       "6th      6  Anila     F"
      ]
     },
     "execution_count": 47,
     "metadata": {},
     "output_type": "execute_result"
    }
   ],
   "source": [
    "pd.DataFrame(data, columns=['RollNo', 'Name', 'Grade'],  index=[\"1st\", \"2nd\", \"3rd\", \"4th\", \"5th\", \"6th\"])"
   ]
  },
  {
   "cell_type": "markdown",
   "id": "16214e67",
   "metadata": {},
   "source": [
    "# To assign above dataframe onto a variable and use head method"
   ]
  },
  {
   "cell_type": "code",
   "execution_count": 48,
   "id": "e3445584",
   "metadata": {},
   "outputs": [],
   "source": [
    "std_class=pd.DataFrame(data, columns=['RollNo', 'Name', 'Grade'],  index=[\"1st\", \"2nd\", \"3rd\", \"4th\", \"5th\", \"6th\"])"
   ]
  },
  {
   "cell_type": "code",
   "execution_count": 49,
   "id": "ed01fc50",
   "metadata": {},
   "outputs": [
    {
     "data": {
      "text/html": [
       "<div>\n",
       "<style scoped>\n",
       "    .dataframe tbody tr th:only-of-type {\n",
       "        vertical-align: middle;\n",
       "    }\n",
       "\n",
       "    .dataframe tbody tr th {\n",
       "        vertical-align: top;\n",
       "    }\n",
       "\n",
       "    .dataframe thead th {\n",
       "        text-align: right;\n",
       "    }\n",
       "</style>\n",
       "<table border=\"1\" class=\"dataframe\">\n",
       "  <thead>\n",
       "    <tr style=\"text-align: right;\">\n",
       "      <th></th>\n",
       "      <th>RollNo</th>\n",
       "      <th>Name</th>\n",
       "      <th>Grade</th>\n",
       "    </tr>\n",
       "  </thead>\n",
       "  <tbody>\n",
       "    <tr>\n",
       "      <th>1st</th>\n",
       "      <td>7</td>\n",
       "      <td>Naila</td>\n",
       "      <td>A</td>\n",
       "    </tr>\n",
       "    <tr>\n",
       "      <th>2nd</th>\n",
       "      <td>5</td>\n",
       "      <td>Anum</td>\n",
       "      <td>B</td>\n",
       "    </tr>\n",
       "    <tr>\n",
       "      <th>3rd</th>\n",
       "      <td>3</td>\n",
       "      <td>Sana</td>\n",
       "      <td>C</td>\n",
       "    </tr>\n",
       "    <tr>\n",
       "      <th>4th</th>\n",
       "      <td>1</td>\n",
       "      <td>Saira</td>\n",
       "      <td>D</td>\n",
       "    </tr>\n",
       "    <tr>\n",
       "      <th>5th</th>\n",
       "      <td>4</td>\n",
       "      <td>Saima</td>\n",
       "      <td>E</td>\n",
       "    </tr>\n",
       "  </tbody>\n",
       "</table>\n",
       "</div>"
      ],
      "text/plain": [
       "    RollNo   Name Grade\n",
       "1st      7  Naila     A\n",
       "2nd      5   Anum     B\n",
       "3rd      3   Sana     C\n",
       "4th      1  Saira     D\n",
       "5th      4  Saima     E"
      ]
     },
     "execution_count": 49,
     "metadata": {},
     "output_type": "execute_result"
    }
   ],
   "source": [
    "std_class.head()   # bydefault Head function used for displayed 1st 5 rows"
   ]
  },
  {
   "cell_type": "code",
   "execution_count": 50,
   "id": "3e971729",
   "metadata": {},
   "outputs": [
    {
     "data": {
      "text/html": [
       "<div>\n",
       "<style scoped>\n",
       "    .dataframe tbody tr th:only-of-type {\n",
       "        vertical-align: middle;\n",
       "    }\n",
       "\n",
       "    .dataframe tbody tr th {\n",
       "        vertical-align: top;\n",
       "    }\n",
       "\n",
       "    .dataframe thead th {\n",
       "        text-align: right;\n",
       "    }\n",
       "</style>\n",
       "<table border=\"1\" class=\"dataframe\">\n",
       "  <thead>\n",
       "    <tr style=\"text-align: right;\">\n",
       "      <th></th>\n",
       "      <th>RollNo</th>\n",
       "      <th>Name</th>\n",
       "      <th>Grade</th>\n",
       "    </tr>\n",
       "  </thead>\n",
       "  <tbody>\n",
       "    <tr>\n",
       "      <th>1st</th>\n",
       "      <td>7</td>\n",
       "      <td>Naila</td>\n",
       "      <td>A</td>\n",
       "    </tr>\n",
       "    <tr>\n",
       "      <th>2nd</th>\n",
       "      <td>5</td>\n",
       "      <td>Anum</td>\n",
       "      <td>B</td>\n",
       "    </tr>\n",
       "  </tbody>\n",
       "</table>\n",
       "</div>"
      ],
      "text/plain": [
       "    RollNo   Name Grade\n",
       "1st      7  Naila     A\n",
       "2nd      5   Anum     B"
      ]
     },
     "execution_count": 50,
     "metadata": {},
     "output_type": "execute_result"
    }
   ],
   "source": [
    "std_class.head(2) #We can pass argument in head method"
   ]
  },
  {
   "cell_type": "code",
   "execution_count": 52,
   "id": "3ded3a83",
   "metadata": {},
   "outputs": [
    {
     "name": "stdout",
     "output_type": "stream",
     "text": [
      "Index(['RollNo', 'Name', 'Grade'], dtype='object')\n",
      "Index(['1st', '2nd', '3rd', '4th', '5th', '6th'], dtype='object')\n"
     ]
    }
   ],
   "source": [
    "#We can display index and column names as well\n",
    "print(std_class.columns)\n",
    "print( std_class.index )"
   ]
  },
  {
   "cell_type": "code",
   "execution_count": 53,
   "id": "e2245443",
   "metadata": {},
   "outputs": [
    {
     "data": {
      "text/plain": [
       "Index(['RollNo', 'Name', 'Grade'], dtype='object')"
      ]
     },
     "execution_count": 53,
     "metadata": {},
     "output_type": "execute_result"
    }
   ],
   "source": [
    "std_class.columns"
   ]
  },
  {
   "cell_type": "markdown",
   "id": "e43b99cb",
   "metadata": {},
   "source": [
    "# A column in a DataFrame can be retrieved as a Series either by \n",
    "# 1. dictionary-like notation    or \n",
    "# 2. by Attribute:"
   ]
  },
  {
   "cell_type": "markdown",
   "id": "51a691d1",
   "metadata": {},
   "source": [
    "# 1. Dictionary-like notation to access or extract"
   ]
  },
  {
   "cell_type": "code",
   "execution_count": 54,
   "id": "6cbb0d49",
   "metadata": {},
   "outputs": [
    {
     "data": {
      "text/plain": [
       "1st    7\n",
       "2nd    5\n",
       "3rd    3\n",
       "4th    1\n",
       "5th    4\n",
       "6th    6\n",
       "Name: RollNo, dtype: object"
      ]
     },
     "execution_count": 54,
     "metadata": {},
     "output_type": "execute_result"
    }
   ],
   "source": [
    "std_class[\"RollNo\"]"
   ]
  },
  {
   "cell_type": "markdown",
   "id": "68ec82fc",
   "metadata": {},
   "source": [
    "# 2. To access or extract by Attribute:"
   ]
  },
  {
   "cell_type": "code",
   "execution_count": 55,
   "id": "570be31e",
   "metadata": {},
   "outputs": [
    {
     "data": {
      "text/plain": [
       "1st    7\n",
       "2nd    5\n",
       "3rd    3\n",
       "4th    1\n",
       "5th    4\n",
       "6th    6\n",
       "Name: RollNo, dtype: object"
      ]
     },
     "execution_count": 55,
     "metadata": {},
     "output_type": "execute_result"
    }
   ],
   "source": [
    "std_class.RollNo"
   ]
  },
  {
   "cell_type": "markdown",
   "id": "88ca4da1",
   "metadata": {},
   "source": [
    "# To find the location of specific row,\"Loc\" method is used"
   ]
  },
  {
   "cell_type": "code",
   "execution_count": 56,
   "id": "c2337a17",
   "metadata": {},
   "outputs": [
    {
     "data": {
      "text/plain": [
       "RollNo       5\n",
       "Name      Anum\n",
       "Grade        B\n",
       "Name: 2nd, dtype: object"
      ]
     },
     "execution_count": 56,
     "metadata": {},
     "output_type": "execute_result"
    }
   ],
   "source": [
    "std_class.loc['2nd']"
   ]
  },
  {
   "cell_type": "code",
   "execution_count": 57,
   "id": "ff807529",
   "metadata": {},
   "outputs": [
    {
     "data": {
      "text/plain": [
       "RollNo        6\n",
       "Name      Anila\n",
       "Grade         F\n",
       "Name: 6th, dtype: object"
      ]
     },
     "execution_count": 57,
     "metadata": {},
     "output_type": "execute_result"
    }
   ],
   "source": [
    "std_class.loc['6th']"
   ]
  },
  {
   "cell_type": "code",
   "execution_count": 58,
   "id": "387dbcfe",
   "metadata": {},
   "outputs": [
    {
     "data": {
      "text/html": [
       "<div>\n",
       "<style scoped>\n",
       "    .dataframe tbody tr th:only-of-type {\n",
       "        vertical-align: middle;\n",
       "    }\n",
       "\n",
       "    .dataframe tbody tr th {\n",
       "        vertical-align: top;\n",
       "    }\n",
       "\n",
       "    .dataframe thead th {\n",
       "        text-align: right;\n",
       "    }\n",
       "</style>\n",
       "<table border=\"1\" class=\"dataframe\">\n",
       "  <thead>\n",
       "    <tr style=\"text-align: right;\">\n",
       "      <th></th>\n",
       "      <th>RollNo</th>\n",
       "      <th>Name</th>\n",
       "      <th>Grade</th>\n",
       "    </tr>\n",
       "  </thead>\n",
       "  <tbody>\n",
       "    <tr>\n",
       "      <th>1st</th>\n",
       "      <td>7</td>\n",
       "      <td>Naila</td>\n",
       "      <td>A</td>\n",
       "    </tr>\n",
       "    <tr>\n",
       "      <th>2nd</th>\n",
       "      <td>5</td>\n",
       "      <td>Anum</td>\n",
       "      <td>B</td>\n",
       "    </tr>\n",
       "    <tr>\n",
       "      <th>3rd</th>\n",
       "      <td>3</td>\n",
       "      <td>Sana</td>\n",
       "      <td>C</td>\n",
       "    </tr>\n",
       "    <tr>\n",
       "      <th>4th</th>\n",
       "      <td>1</td>\n",
       "      <td>Saira</td>\n",
       "      <td>D</td>\n",
       "    </tr>\n",
       "    <tr>\n",
       "      <th>5th</th>\n",
       "      <td>4</td>\n",
       "      <td>Saima</td>\n",
       "      <td>E</td>\n",
       "    </tr>\n",
       "  </tbody>\n",
       "</table>\n",
       "</div>"
      ],
      "text/plain": [
       "    RollNo   Name Grade\n",
       "1st      7  Naila     A\n",
       "2nd      5   Anum     B\n",
       "3rd      3   Sana     C\n",
       "4th      1  Saira     D\n",
       "5th      4  Saima     E"
      ]
     },
     "execution_count": 58,
     "metadata": {},
     "output_type": "execute_result"
    }
   ],
   "source": [
    "std_class.head()"
   ]
  },
  {
   "cell_type": "markdown",
   "id": "284a74f9",
   "metadata": {},
   "source": [
    "#Lets assign this dataframe with one extra  'Marks'added and assign this dataframe to another variable(remember RollNo,Name and Grade are the lists that were passed in dictionary and then dataframe). This new column 'Marks'has no list"
   ]
  },
  {
   "cell_type": "code",
   "execution_count": 65,
   "id": "4246d3c1",
   "metadata": {},
   "outputs": [
    {
     "data": {
      "text/html": [
       "<div>\n",
       "<style scoped>\n",
       "    .dataframe tbody tr th:only-of-type {\n",
       "        vertical-align: middle;\n",
       "    }\n",
       "\n",
       "    .dataframe tbody tr th {\n",
       "        vertical-align: top;\n",
       "    }\n",
       "\n",
       "    .dataframe thead th {\n",
       "        text-align: right;\n",
       "    }\n",
       "</style>\n",
       "<table border=\"1\" class=\"dataframe\">\n",
       "  <thead>\n",
       "    <tr style=\"text-align: right;\">\n",
       "      <th></th>\n",
       "      <th>RollNo</th>\n",
       "      <th>Name</th>\n",
       "      <th>Grade</th>\n",
       "      <th>Marks</th>\n",
       "    </tr>\n",
       "  </thead>\n",
       "  <tbody>\n",
       "    <tr>\n",
       "      <th>1st</th>\n",
       "      <td>7</td>\n",
       "      <td>Naila</td>\n",
       "      <td>A</td>\n",
       "      <td>NaN</td>\n",
       "    </tr>\n",
       "    <tr>\n",
       "      <th>2nd</th>\n",
       "      <td>5</td>\n",
       "      <td>Anum</td>\n",
       "      <td>B</td>\n",
       "      <td>NaN</td>\n",
       "    </tr>\n",
       "    <tr>\n",
       "      <th>3rd</th>\n",
       "      <td>3</td>\n",
       "      <td>Sana</td>\n",
       "      <td>C</td>\n",
       "      <td>NaN</td>\n",
       "    </tr>\n",
       "    <tr>\n",
       "      <th>4th</th>\n",
       "      <td>1</td>\n",
       "      <td>Saira</td>\n",
       "      <td>D</td>\n",
       "      <td>NaN</td>\n",
       "    </tr>\n",
       "    <tr>\n",
       "      <th>5th</th>\n",
       "      <td>4</td>\n",
       "      <td>Saima</td>\n",
       "      <td>E</td>\n",
       "      <td>NaN</td>\n",
       "    </tr>\n",
       "    <tr>\n",
       "      <th>6th</th>\n",
       "      <td>6</td>\n",
       "      <td>Anila</td>\n",
       "      <td>F</td>\n",
       "      <td>NaN</td>\n",
       "    </tr>\n",
       "  </tbody>\n",
       "</table>\n",
       "</div>"
      ],
      "text/plain": [
       "    RollNo   Name Grade Marks\n",
       "1st      7  Naila     A   NaN\n",
       "2nd      5   Anum     B   NaN\n",
       "3rd      3   Sana     C   NaN\n",
       "4th      1  Saira     D   NaN\n",
       "5th      4  Saima     E   NaN\n",
       "6th      6  Anila     F   NaN"
      ]
     },
     "execution_count": 65,
     "metadata": {},
     "output_type": "execute_result"
    }
   ],
   "source": [
    "std_class2=pd.DataFrame(data, columns=['RollNo', 'Name', 'Grade', 'Marks'],  \n",
    "             index=[\"1st\", \"2nd\", \"3rd\", \"4th\", \"5th\", \"6th\"])\n",
    "#print(std_class2)\n",
    "std_class2"
   ]
  },
  {
   "cell_type": "markdown",
   "id": "81f26816",
   "metadata": {},
   "source": [
    "# displaying index and columns names"
   ]
  },
  {
   "cell_type": "code",
   "execution_count": 66,
   "id": "ce402b2f",
   "metadata": {},
   "outputs": [
    {
     "name": "stdout",
     "output_type": "stream",
     "text": [
      "Index(['RollNo', 'Name', 'Grade', 'Marks'], dtype='object')\n",
      "Index(['1st', '2nd', '3rd', '4th', '5th', '6th'], dtype='object')\n"
     ]
    }
   ],
   "source": [
    "print(std_class2.columns)\n",
    "print( std_class2.index )"
   ]
  },
  {
   "cell_type": "markdown",
   "id": "15907ad1",
   "metadata": {},
   "source": [
    "# Columns can be modified by assigning a value. For example, the empty 'Marks' column could be assigned a scalar value or an array values:"
   ]
  },
  {
   "cell_type": "code",
   "execution_count": 74,
   "id": "7e7ea5fc",
   "metadata": {},
   "outputs": [],
   "source": [
    "std_class2['Marks']=60\n",
    "#std_class2.Marks= 60"
   ]
  },
  {
   "cell_type": "code",
   "execution_count": 75,
   "id": "8e07b08b",
   "metadata": {},
   "outputs": [
    {
     "data": {
      "text/html": [
       "<div>\n",
       "<style scoped>\n",
       "    .dataframe tbody tr th:only-of-type {\n",
       "        vertical-align: middle;\n",
       "    }\n",
       "\n",
       "    .dataframe tbody tr th {\n",
       "        vertical-align: top;\n",
       "    }\n",
       "\n",
       "    .dataframe thead th {\n",
       "        text-align: right;\n",
       "    }\n",
       "</style>\n",
       "<table border=\"1\" class=\"dataframe\">\n",
       "  <thead>\n",
       "    <tr style=\"text-align: right;\">\n",
       "      <th></th>\n",
       "      <th>RollNo</th>\n",
       "      <th>Name</th>\n",
       "      <th>Grade</th>\n",
       "      <th>Marks</th>\n",
       "    </tr>\n",
       "  </thead>\n",
       "  <tbody>\n",
       "    <tr>\n",
       "      <th>1st</th>\n",
       "      <td>7</td>\n",
       "      <td>Naila</td>\n",
       "      <td>A</td>\n",
       "      <td>60</td>\n",
       "    </tr>\n",
       "    <tr>\n",
       "      <th>2nd</th>\n",
       "      <td>5</td>\n",
       "      <td>Anum</td>\n",
       "      <td>B</td>\n",
       "      <td>60</td>\n",
       "    </tr>\n",
       "  </tbody>\n",
       "</table>\n",
       "</div>"
      ],
      "text/plain": [
       "    RollNo   Name Grade  Marks\n",
       "1st      7  Naila     A     60\n",
       "2nd      5   Anum     B     60"
      ]
     },
     "execution_count": 75,
     "metadata": {},
     "output_type": "execute_result"
    }
   ],
   "source": [
    "std_class2.head(2)"
   ]
  },
  {
   "cell_type": "code",
   "execution_count": 77,
   "id": "2eada25c",
   "metadata": {},
   "outputs": [
    {
     "data": {
      "text/html": [
       "<div>\n",
       "<style scoped>\n",
       "    .dataframe tbody tr th:only-of-type {\n",
       "        vertical-align: middle;\n",
       "    }\n",
       "\n",
       "    .dataframe tbody tr th {\n",
       "        vertical-align: top;\n",
       "    }\n",
       "\n",
       "    .dataframe thead th {\n",
       "        text-align: right;\n",
       "    }\n",
       "</style>\n",
       "<table border=\"1\" class=\"dataframe\">\n",
       "  <thead>\n",
       "    <tr style=\"text-align: right;\">\n",
       "      <th></th>\n",
       "      <th>RollNo</th>\n",
       "      <th>Name</th>\n",
       "      <th>Grade</th>\n",
       "      <th>Marks</th>\n",
       "    </tr>\n",
       "  </thead>\n",
       "  <tbody>\n",
       "    <tr>\n",
       "      <th>1st</th>\n",
       "      <td>7</td>\n",
       "      <td>Naila</td>\n",
       "      <td>A</td>\n",
       "      <td>95.0</td>\n",
       "    </tr>\n",
       "    <tr>\n",
       "      <th>2nd</th>\n",
       "      <td>5</td>\n",
       "      <td>Anum</td>\n",
       "      <td>B</td>\n",
       "      <td>80.0</td>\n",
       "    </tr>\n",
       "    <tr>\n",
       "      <th>3rd</th>\n",
       "      <td>3</td>\n",
       "      <td>Sana</td>\n",
       "      <td>C</td>\n",
       "      <td>NaN</td>\n",
       "    </tr>\n",
       "    <tr>\n",
       "      <th>4th</th>\n",
       "      <td>1</td>\n",
       "      <td>Saira</td>\n",
       "      <td>D</td>\n",
       "      <td>85.0</td>\n",
       "    </tr>\n",
       "    <tr>\n",
       "      <th>5th</th>\n",
       "      <td>4</td>\n",
       "      <td>Saima</td>\n",
       "      <td>E</td>\n",
       "      <td>70.0</td>\n",
       "    </tr>\n",
       "    <tr>\n",
       "      <th>6th</th>\n",
       "      <td>6</td>\n",
       "      <td>Anila</td>\n",
       "      <td>F</td>\n",
       "      <td>NaN</td>\n",
       "    </tr>\n",
       "  </tbody>\n",
       "</table>\n",
       "</div>"
      ],
      "text/plain": [
       "    RollNo   Name Grade  Marks\n",
       "1st      7  Naila     A   95.0\n",
       "2nd      5   Anum     B   80.0\n",
       "3rd      3   Sana     C    NaN\n",
       "4th      1  Saira     D   85.0\n",
       "5th      4  Saima     E   70.0\n",
       "6th      6  Anila     F    NaN"
      ]
     },
     "execution_count": 77,
     "metadata": {},
     "output_type": "execute_result"
    }
   ],
   "source": [
    "val = pd.Series([95, 80, 85, 70], index=['1st', '2nd', '4th', '5th'])\n",
    "\n",
    "std_class2['Marks'] = val  # Adding values in \"Marks\" column \n",
    "std_class2"
   ]
  },
  {
   "cell_type": "markdown",
   "id": "b1938ccf",
   "metadata": {},
   "source": [
    "# Deleting data (row or column) from dataframe"
   ]
  },
  {
   "cell_type": "code",
   "execution_count": 101,
   "id": "c837e4f1",
   "metadata": {},
   "outputs": [
    {
     "name": "stdout",
     "output_type": "stream",
     "text": [
      "[ 0  1  2  3  4  5  6  7  8  9 10 11 12 13 14 15 16 17 18 19 20 21 22 23\n",
      " 24 25 26 27 28 29]\n"
     ]
    }
   ],
   "source": [
    "import numpy as np\n",
    "import pandas as pd\n",
    "\n",
    "random = np.arange(30)\n",
    "print(random)"
   ]
  },
  {
   "cell_type": "code",
   "execution_count": 102,
   "id": "0a6b541c",
   "metadata": {},
   "outputs": [
    {
     "data": {
      "text/plain": [
       "array([[ 0,  1,  2,  3,  4,  5],\n",
       "       [ 6,  7,  8,  9, 10, 11],\n",
       "       [12, 13, 14, 15, 16, 17],\n",
       "       [18, 19, 20, 21, 22, 23],\n",
       "       [24, 25, 26, 27, 28, 29]])"
      ]
     },
     "execution_count": 102,
     "metadata": {},
     "output_type": "execute_result"
    }
   ],
   "source": [
    "NmPy_Data = np.arange(30).reshape((5, 6))\n",
    "NmPy_Data"
   ]
  },
  {
   "cell_type": "markdown",
   "id": "84438061",
   "metadata": {},
   "source": [
    "# We can assign numpy values to dataframe and then can assign to variable numpydataframe (NmPy_Datafrm)"
   ]
  },
  {
   "cell_type": "code",
   "execution_count": 107,
   "id": "d5616835",
   "metadata": {},
   "outputs": [
    {
     "data": {
      "text/html": [
       "<div>\n",
       "<style scoped>\n",
       "    .dataframe tbody tr th:only-of-type {\n",
       "        vertical-align: middle;\n",
       "    }\n",
       "\n",
       "    .dataframe tbody tr th {\n",
       "        vertical-align: top;\n",
       "    }\n",
       "\n",
       "    .dataframe thead th {\n",
       "        text-align: right;\n",
       "    }\n",
       "</style>\n",
       "<table border=\"1\" class=\"dataframe\">\n",
       "  <thead>\n",
       "    <tr style=\"text-align: right;\">\n",
       "      <th></th>\n",
       "      <th>Col1</th>\n",
       "      <th>Col2</th>\n",
       "      <th>Col3</th>\n",
       "      <th>Col4</th>\n",
       "      <th>Col5</th>\n",
       "      <th>Col6</th>\n",
       "    </tr>\n",
       "  </thead>\n",
       "  <tbody>\n",
       "    <tr>\n",
       "      <th>R1</th>\n",
       "      <td>0</td>\n",
       "      <td>1</td>\n",
       "      <td>2</td>\n",
       "      <td>3</td>\n",
       "      <td>4</td>\n",
       "      <td>5</td>\n",
       "    </tr>\n",
       "    <tr>\n",
       "      <th>R2</th>\n",
       "      <td>6</td>\n",
       "      <td>7</td>\n",
       "      <td>8</td>\n",
       "      <td>9</td>\n",
       "      <td>10</td>\n",
       "      <td>11</td>\n",
       "    </tr>\n",
       "    <tr>\n",
       "      <th>R3</th>\n",
       "      <td>12</td>\n",
       "      <td>13</td>\n",
       "      <td>14</td>\n",
       "      <td>15</td>\n",
       "      <td>16</td>\n",
       "      <td>17</td>\n",
       "    </tr>\n",
       "    <tr>\n",
       "      <th>R4</th>\n",
       "      <td>18</td>\n",
       "      <td>19</td>\n",
       "      <td>20</td>\n",
       "      <td>21</td>\n",
       "      <td>22</td>\n",
       "      <td>23</td>\n",
       "    </tr>\n",
       "    <tr>\n",
       "      <th>R5</th>\n",
       "      <td>24</td>\n",
       "      <td>25</td>\n",
       "      <td>26</td>\n",
       "      <td>27</td>\n",
       "      <td>28</td>\n",
       "      <td>29</td>\n",
       "    </tr>\n",
       "  </tbody>\n",
       "</table>\n",
       "</div>"
      ],
      "text/plain": [
       "    Col1  Col2  Col3  Col4  Col5  Col6\n",
       "R1     0     1     2     3     4     5\n",
       "R2     6     7     8     9    10    11\n",
       "R3    12    13    14    15    16    17\n",
       "R4    18    19    20    21    22    23\n",
       "R5    24    25    26    27    28    29"
      ]
     },
     "execution_count": 107,
     "metadata": {},
     "output_type": "execute_result"
    }
   ],
   "source": [
    "NmPy_Datafrm = pd.DataFrame(np.arange(30).reshape((5, 6)),   # random generate values\n",
    "             index=['R1', 'R2', 'R3', 'R4', 'R5'],\n",
    "             columns=['Col1', 'Col2', 'Col3', 'Col4', 'Col5', 'Col6'])\n",
    "NmPy_Datafrm"
   ]
  },
  {
   "cell_type": "markdown",
   "id": "1f028060",
   "metadata": {},
   "source": [
    "# Deleting columns from dataframe"
   ]
  },
  {
   "cell_type": "code",
   "execution_count": 108,
   "id": "297645b5",
   "metadata": {},
   "outputs": [],
   "source": [
    "#You can drop values from the columns by passing axis=1 or axis='columns' :"
   ]
  },
  {
   "cell_type": "code",
   "execution_count": 111,
   "id": "88e4fd68",
   "metadata": {},
   "outputs": [
    {
     "ename": "AttributeError",
     "evalue": "'NoneType' object has no attribute 'drop'",
     "output_type": "error",
     "traceback": [
      "\u001b[1;31m---------------------------------------------------------------------------\u001b[0m",
      "\u001b[1;31mAttributeError\u001b[0m                            Traceback (most recent call last)",
      "\u001b[1;32m~\\AppData\\Local\\Temp\\ipykernel_1204\\1084459764.py\u001b[0m in \u001b[0;36m<module>\u001b[1;34m\u001b[0m\n\u001b[1;32m----> 1\u001b[1;33m \u001b[0mNmPy_Datafrm\u001b[0m\u001b[1;33m=\u001b[0m\u001b[0mNmPy_Datafrm\u001b[0m\u001b[1;33m.\u001b[0m\u001b[0mdrop\u001b[0m\u001b[1;33m(\u001b[0m\u001b[1;34m'Col3'\u001b[0m\u001b[1;33m,\u001b[0m \u001b[0maxis\u001b[0m\u001b[1;33m=\u001b[0m\u001b[1;36m1\u001b[0m\u001b[1;33m,\u001b[0m \u001b[0minplace\u001b[0m \u001b[1;33m=\u001b[0m \u001b[1;32mTrue\u001b[0m\u001b[1;33m)\u001b[0m\u001b[1;33m\u001b[0m\u001b[1;33m\u001b[0m\u001b[0m\n\u001b[0m\u001b[0;32m      2\u001b[0m \u001b[0mNmPy_Datafrm\u001b[0m\u001b[1;33m\u001b[0m\u001b[1;33m\u001b[0m\u001b[0m\n",
      "\u001b[1;31mAttributeError\u001b[0m: 'NoneType' object has no attribute 'drop'"
     ]
    }
   ],
   "source": [
    "NmPy_Datafrm=NmPy_Datafrm.drop('Col3', axis=1, inplace = True)\n",
    "NmPy_Datafrm"
   ]
  },
  {
   "cell_type": "markdown",
   "id": "f7e8b9f4",
   "metadata": {},
   "source": [
    "# Deleting specific rows from DataFrame"
   ]
  },
  {
   "cell_type": "code",
   "execution_count": 112,
   "id": "7be7b94f",
   "metadata": {},
   "outputs": [
    {
     "data": {
      "text/html": [
       "<div>\n",
       "<style scoped>\n",
       "    .dataframe tbody tr th:only-of-type {\n",
       "        vertical-align: middle;\n",
       "    }\n",
       "\n",
       "    .dataframe tbody tr th {\n",
       "        vertical-align: top;\n",
       "    }\n",
       "\n",
       "    .dataframe thead th {\n",
       "        text-align: right;\n",
       "    }\n",
       "</style>\n",
       "<table border=\"1\" class=\"dataframe\">\n",
       "  <thead>\n",
       "    <tr style=\"text-align: right;\">\n",
       "      <th></th>\n",
       "      <th>Col1</th>\n",
       "      <th>Col2</th>\n",
       "      <th>Col3</th>\n",
       "      <th>Col4</th>\n",
       "      <th>Col5</th>\n",
       "      <th>Col6</th>\n",
       "    </tr>\n",
       "  </thead>\n",
       "  <tbody>\n",
       "    <tr>\n",
       "      <th>R1</th>\n",
       "      <td>0</td>\n",
       "      <td>1</td>\n",
       "      <td>2</td>\n",
       "      <td>3</td>\n",
       "      <td>4</td>\n",
       "      <td>5</td>\n",
       "    </tr>\n",
       "    <tr>\n",
       "      <th>R2</th>\n",
       "      <td>6</td>\n",
       "      <td>7</td>\n",
       "      <td>8</td>\n",
       "      <td>9</td>\n",
       "      <td>10</td>\n",
       "      <td>11</td>\n",
       "    </tr>\n",
       "    <tr>\n",
       "      <th>R3</th>\n",
       "      <td>12</td>\n",
       "      <td>13</td>\n",
       "      <td>14</td>\n",
       "      <td>15</td>\n",
       "      <td>16</td>\n",
       "      <td>17</td>\n",
       "    </tr>\n",
       "    <tr>\n",
       "      <th>R4</th>\n",
       "      <td>18</td>\n",
       "      <td>19</td>\n",
       "      <td>20</td>\n",
       "      <td>21</td>\n",
       "      <td>22</td>\n",
       "      <td>23</td>\n",
       "    </tr>\n",
       "    <tr>\n",
       "      <th>R5</th>\n",
       "      <td>24</td>\n",
       "      <td>25</td>\n",
       "      <td>26</td>\n",
       "      <td>27</td>\n",
       "      <td>28</td>\n",
       "      <td>29</td>\n",
       "    </tr>\n",
       "  </tbody>\n",
       "</table>\n",
       "</div>"
      ],
      "text/plain": [
       "    Col1  Col2  Col3  Col4  Col5  Col6\n",
       "R1     0     1     2     3     4     5\n",
       "R2     6     7     8     9    10    11\n",
       "R3    12    13    14    15    16    17\n",
       "R4    18    19    20    21    22    23\n",
       "R5    24    25    26    27    28    29"
      ]
     },
     "execution_count": 112,
     "metadata": {},
     "output_type": "execute_result"
    }
   ],
   "source": [
    "NmPy_Datafrm = pd.DataFrame(np.arange(30).reshape((5, 6)),   # random generate values\n",
    "             index=['R1', 'R2', 'R3', 'R4', 'R5'],\n",
    "             columns=['Col1', 'Col2', 'Col3', 'Col4', 'Col5', 'Col6'])\n",
    "NmPy_Datafrm"
   ]
  },
  {
   "cell_type": "code",
   "execution_count": 117,
   "id": "156af402",
   "metadata": {},
   "outputs": [],
   "source": [
    "NmPy_Datafrm.drop('R4',axis=0, inplace= True)"
   ]
  },
  {
   "cell_type": "code",
   "execution_count": 118,
   "id": "98310b4f",
   "metadata": {},
   "outputs": [
    {
     "data": {
      "text/html": [
       "<div>\n",
       "<style scoped>\n",
       "    .dataframe tbody tr th:only-of-type {\n",
       "        vertical-align: middle;\n",
       "    }\n",
       "\n",
       "    .dataframe tbody tr th {\n",
       "        vertical-align: top;\n",
       "    }\n",
       "\n",
       "    .dataframe thead th {\n",
       "        text-align: right;\n",
       "    }\n",
       "</style>\n",
       "<table border=\"1\" class=\"dataframe\">\n",
       "  <thead>\n",
       "    <tr style=\"text-align: right;\">\n",
       "      <th></th>\n",
       "      <th>Col1</th>\n",
       "      <th>Col2</th>\n",
       "      <th>Col3</th>\n",
       "      <th>Col4</th>\n",
       "      <th>Col5</th>\n",
       "      <th>Col6</th>\n",
       "    </tr>\n",
       "  </thead>\n",
       "  <tbody>\n",
       "    <tr>\n",
       "      <th>R1</th>\n",
       "      <td>0</td>\n",
       "      <td>1</td>\n",
       "      <td>2</td>\n",
       "      <td>3</td>\n",
       "      <td>4</td>\n",
       "      <td>5</td>\n",
       "    </tr>\n",
       "    <tr>\n",
       "      <th>R2</th>\n",
       "      <td>6</td>\n",
       "      <td>7</td>\n",
       "      <td>8</td>\n",
       "      <td>9</td>\n",
       "      <td>10</td>\n",
       "      <td>11</td>\n",
       "    </tr>\n",
       "    <tr>\n",
       "      <th>R3</th>\n",
       "      <td>12</td>\n",
       "      <td>13</td>\n",
       "      <td>14</td>\n",
       "      <td>15</td>\n",
       "      <td>16</td>\n",
       "      <td>17</td>\n",
       "    </tr>\n",
       "    <tr>\n",
       "      <th>R5</th>\n",
       "      <td>24</td>\n",
       "      <td>25</td>\n",
       "      <td>26</td>\n",
       "      <td>27</td>\n",
       "      <td>28</td>\n",
       "      <td>29</td>\n",
       "    </tr>\n",
       "  </tbody>\n",
       "</table>\n",
       "</div>"
      ],
      "text/plain": [
       "    Col1  Col2  Col3  Col4  Col5  Col6\n",
       "R1     0     1     2     3     4     5\n",
       "R2     6     7     8     9    10    11\n",
       "R3    12    13    14    15    16    17\n",
       "R5    24    25    26    27    28    29"
      ]
     },
     "execution_count": 118,
     "metadata": {},
     "output_type": "execute_result"
    }
   ],
   "source": [
    "NmPy_Datafrm"
   ]
  },
  {
   "cell_type": "markdown",
   "id": "d41ae464",
   "metadata": {},
   "source": [
    "# Selection with loc and iloc (Used in slicing data)"
   ]
  },
  {
   "cell_type": "code",
   "execution_count": 119,
   "id": "9f303416",
   "metadata": {},
   "outputs": [
    {
     "data": {
      "text/html": [
       "<div>\n",
       "<style scoped>\n",
       "    .dataframe tbody tr th:only-of-type {\n",
       "        vertical-align: middle;\n",
       "    }\n",
       "\n",
       "    .dataframe tbody tr th {\n",
       "        vertical-align: top;\n",
       "    }\n",
       "\n",
       "    .dataframe thead th {\n",
       "        text-align: right;\n",
       "    }\n",
       "</style>\n",
       "<table border=\"1\" class=\"dataframe\">\n",
       "  <thead>\n",
       "    <tr style=\"text-align: right;\">\n",
       "      <th></th>\n",
       "      <th>Col1</th>\n",
       "      <th>Col2</th>\n",
       "      <th>Col3</th>\n",
       "      <th>Col4</th>\n",
       "      <th>Col5</th>\n",
       "      <th>Col6</th>\n",
       "    </tr>\n",
       "  </thead>\n",
       "  <tbody>\n",
       "    <tr>\n",
       "      <th>R1</th>\n",
       "      <td>0</td>\n",
       "      <td>1</td>\n",
       "      <td>2</td>\n",
       "      <td>3</td>\n",
       "      <td>4</td>\n",
       "      <td>5</td>\n",
       "    </tr>\n",
       "    <tr>\n",
       "      <th>R2</th>\n",
       "      <td>6</td>\n",
       "      <td>7</td>\n",
       "      <td>8</td>\n",
       "      <td>9</td>\n",
       "      <td>10</td>\n",
       "      <td>11</td>\n",
       "    </tr>\n",
       "    <tr>\n",
       "      <th>R3</th>\n",
       "      <td>12</td>\n",
       "      <td>13</td>\n",
       "      <td>14</td>\n",
       "      <td>15</td>\n",
       "      <td>16</td>\n",
       "      <td>17</td>\n",
       "    </tr>\n",
       "    <tr>\n",
       "      <th>R4</th>\n",
       "      <td>18</td>\n",
       "      <td>19</td>\n",
       "      <td>20</td>\n",
       "      <td>21</td>\n",
       "      <td>22</td>\n",
       "      <td>23</td>\n",
       "    </tr>\n",
       "    <tr>\n",
       "      <th>R5</th>\n",
       "      <td>24</td>\n",
       "      <td>25</td>\n",
       "      <td>26</td>\n",
       "      <td>27</td>\n",
       "      <td>28</td>\n",
       "      <td>29</td>\n",
       "    </tr>\n",
       "  </tbody>\n",
       "</table>\n",
       "</div>"
      ],
      "text/plain": [
       "    Col1  Col2  Col3  Col4  Col5  Col6\n",
       "R1     0     1     2     3     4     5\n",
       "R2     6     7     8     9    10    11\n",
       "R3    12    13    14    15    16    17\n",
       "R4    18    19    20    21    22    23\n",
       "R5    24    25    26    27    28    29"
      ]
     },
     "execution_count": 119,
     "metadata": {},
     "output_type": "execute_result"
    }
   ],
   "source": [
    "NmPy_Datafrm = pd.DataFrame(np.arange(30).reshape((5, 6)),   # random generate values\n",
    "             index=['R1', 'R2', 'R3', 'R4', 'R5'],\n",
    "             columns=['Col1', 'Col2', 'Col3', 'Col4', 'Col5', 'Col6'])\n",
    "NmPy_Datafrm"
   ]
  },
  {
   "cell_type": "raw",
   "id": "71a62681",
   "metadata": {},
   "source": [
    "# loc() function helps to select specific rows or columns based on row or column labels "
   ]
  },
  {
   "cell_type": "code",
   "execution_count": 122,
   "id": "c846ede2",
   "metadata": {},
   "outputs": [
    {
     "name": "stdout",
     "output_type": "stream",
     "text": [
      "    Col3  Col4\n",
      "R4    20    21\n",
      "R5    26    27\n"
     ]
    }
   ],
   "source": [
    "print(NmPy_Datafrm.loc[['R4', 'R5'], ['Col3','Col4']])"
   ]
  },
  {
   "cell_type": "raw",
   "id": "43ff3bba",
   "metadata": {},
   "source": [
    "#iloc() function helps to select specific rows or columns based on their integer position values"
   ]
  },
  {
   "cell_type": "code",
   "execution_count": 124,
   "id": "929107f3",
   "metadata": {},
   "outputs": [
    {
     "name": "stdout",
     "output_type": "stream",
     "text": [
      "    Col4  Col1  Col2\n",
      "R2     9     6     7\n",
      "R3    15    12    13\n",
      "R4    21    18    19\n"
     ]
    }
   ],
   "source": [
    "print(NmPy_Datafrm.iloc[1: 4, [3, 0, 1] ] )     # using number instead of labels\n",
    "                \n",
    "            # iloc does row wise operation"
   ]
  },
  {
   "cell_type": "code",
   "execution_count": 126,
   "id": "9c4659c5",
   "metadata": {},
   "outputs": [
    {
     "name": "stdout",
     "output_type": "stream",
     "text": [
      "    Col6  Col4  Col3  Col2\n",
      "R1     5     3     2     1\n",
      "R2    11     9     8     7\n",
      "R3    17    15    14    13\n",
      "R4    23    21    20    19\n"
     ]
    }
   ],
   "source": [
    "print(NmPy_Datafrm.iloc[: 4, [5, 3, 2, 1] ] )"
   ]
  },
  {
   "cell_type": "code",
   "execution_count": 127,
   "id": "1f56f4eb",
   "metadata": {},
   "outputs": [
    {
     "name": "stdout",
     "output_type": "stream",
     "text": [
      "    Col1  Col2  Col3  Col4  Col5  Col6\n",
      "R1     0     1     2     3     4     5\n",
      "R2     6     7     8     9    10    11\n",
      "R3    12    13    14    15    16    17\n",
      "R4    18    19    20    21    22    23\n",
      "R5    24    25    26    27    28    29\n"
     ]
    }
   ],
   "source": [
    "print(NmPy_Datafrm.iloc[:])"
   ]
  },
  {
   "cell_type": "code",
   "execution_count": 128,
   "id": "3f5549c3",
   "metadata": {},
   "outputs": [
    {
     "name": "stdout",
     "output_type": "stream",
     "text": [
      "    Col1  Col2  Col3\n",
      "R1     0     1     2\n",
      "R2     6     7     8\n",
      "R3    12    13    14\n"
     ]
    }
   ],
   "source": [
    "print(NmPy_Datafrm.iloc[:3, :3])"
   ]
  },
  {
   "cell_type": "code",
   "execution_count": 129,
   "id": "2e415521",
   "metadata": {},
   "outputs": [
    {
     "name": "stdout",
     "output_type": "stream",
     "text": [
      "    Col1  Col2  Col3\n",
      "R1     0     1     2\n",
      "R2     6     7     8\n",
      "R3    12    13    14\n",
      "R4    18    19    20\n",
      "R5    24    25    26\n"
     ]
    }
   ],
   "source": [
    "print(NmPy_Datafrm.iloc[:, :3])"
   ]
  },
  {
   "cell_type": "markdown",
   "id": "f4e25d8a",
   "metadata": {},
   "source": [
    "# Arithmetic methods with 'fill value'"
   ]
  },
  {
   "cell_type": "code",
   "execution_count": 133,
   "id": "8c7b60b8",
   "metadata": {},
   "outputs": [
    {
     "name": "stdout",
     "output_type": "stream",
     "text": [
      "   a  b   c   d\n",
      "0  0  1   2   3\n",
      "1  4  5   6   7\n",
      "2  8  9  10  11\n"
     ]
    }
   ],
   "source": [
    "df1 = pd.DataFrame(np.arange(12).reshape((3, 4)),\n",
    "                   columns=list('abcd'))\n",
    "\n",
    "df2 = pd.DataFrame(np.arange(20).reshape((4, 5)),\n",
    "                    columns=list('abcde'))\n",
    "print(df1)"
   ]
  },
  {
   "cell_type": "code",
   "execution_count": 134,
   "id": "f77417c3",
   "metadata": {},
   "outputs": [
    {
     "name": "stdout",
     "output_type": "stream",
     "text": [
      "    a   b   c   d   e\n",
      "0   0   1   2   3   4\n",
      "1   5   6   7   8   9\n",
      "2  10  11  12  13  14\n",
      "3  15  16  17  18  19\n"
     ]
    }
   ],
   "source": [
    "print(df2)"
   ]
  },
  {
   "cell_type": "code",
   "execution_count": 135,
   "id": "73cd9398",
   "metadata": {},
   "outputs": [
    {
     "name": "stdout",
     "output_type": "stream",
     "text": [
      "      a     b     c     d   e\n",
      "0   0.0   2.0   4.0   6.0 NaN\n",
      "1   9.0  11.0  13.0  15.0 NaN\n",
      "2  18.0  20.0  22.0  24.0 NaN\n",
      "3   NaN   NaN   NaN   NaN NaN\n"
     ]
    }
   ],
   "source": [
    "df3 = df1+df2\n",
    "print(df3)"
   ]
  },
  {
   "cell_type": "code",
   "execution_count": 136,
   "id": "9928e1b9",
   "metadata": {},
   "outputs": [
    {
     "name": "stdout",
     "output_type": "stream",
     "text": [
      "      a     b     c     d     e\n",
      "0   0.0   2.0   4.0   6.0   4.0\n",
      "1   9.0  11.0  13.0  15.0   9.0\n",
      "2  18.0  20.0  22.0  24.0  14.0\n",
      "3  15.0  16.0  17.0  18.0  19.0\n"
     ]
    }
   ],
   "source": [
    "# Add method is used for filling NaN cells with a value\n",
    "# In dataframe 'df2' Nan will be replaced by 0 and then 'Add' method will applied\n",
    "df3 = df1.add(df2, fill_value=0)\n",
    "print(df3)"
   ]
  },
  {
   "cell_type": "code",
   "execution_count": null,
   "id": "cc812cc4",
   "metadata": {},
   "outputs": [],
   "source": []
  }
 ],
 "metadata": {
  "kernelspec": {
   "display_name": "Python 3 (ipykernel)",
   "language": "python",
   "name": "python3"
  },
  "language_info": {
   "codemirror_mode": {
    "name": "ipython",
    "version": 3
   },
   "file_extension": ".py",
   "mimetype": "text/x-python",
   "name": "python",
   "nbconvert_exporter": "python",
   "pygments_lexer": "ipython3",
   "version": "3.9.13"
  }
 },
 "nbformat": 4,
 "nbformat_minor": 5
}
